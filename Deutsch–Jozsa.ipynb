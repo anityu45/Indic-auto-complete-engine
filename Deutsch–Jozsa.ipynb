{
  "nbformat": 4,
  "nbformat_minor": 0,
  "metadata": {
    "colab": {
      "provenance": [],
      "authorship_tag": "ABX9TyP8QrpGj9JTJUnTax8G41bY",
      "include_colab_link": true
    },
    "kernelspec": {
      "name": "python3",
      "display_name": "Python 3"
    },
    "language_info": {
      "name": "python"
    },
    "widgets": {
      "application/vnd.jupyter.widget-state+json": {
        "3aba1a9b640d4e9199d3c3070c237362": {
          "model_module": "@jupyter-widgets/controls",
          "model_name": "IntSliderModel",
          "model_module_version": "1.5.0",
          "state": {
            "_dom_classes": [],
            "_model_module": "@jupyter-widgets/controls",
            "_model_module_version": "1.5.0",
            "_model_name": "IntSliderModel",
            "_view_count": null,
            "_view_module": "@jupyter-widgets/controls",
            "_view_module_version": "1.5.0",
            "_view_name": "IntSliderView",
            "continuous_update": true,
            "description": "Number of qubits:",
            "description_tooltip": null,
            "disabled": false,
            "layout": "IPY_MODEL_ae5d958233744ddfb874560cbd9492d5",
            "max": 4,
            "min": 1,
            "orientation": "horizontal",
            "readout": true,
            "readout_format": "d",
            "step": 1,
            "style": "IPY_MODEL_dc9df7ab767a40d4b49ba8cc2fd3e4b3",
            "value": 2
          }
        },
        "ae5d958233744ddfb874560cbd9492d5": {
          "model_module": "@jupyter-widgets/base",
          "model_name": "LayoutModel",
          "model_module_version": "1.2.0",
          "state": {
            "_model_module": "@jupyter-widgets/base",
            "_model_module_version": "1.2.0",
            "_model_name": "LayoutModel",
            "_view_count": null,
            "_view_module": "@jupyter-widgets/base",
            "_view_module_version": "1.2.0",
            "_view_name": "LayoutView",
            "align_content": null,
            "align_items": null,
            "align_self": null,
            "border": null,
            "bottom": null,
            "display": null,
            "flex": null,
            "flex_flow": null,
            "grid_area": null,
            "grid_auto_columns": null,
            "grid_auto_flow": null,
            "grid_auto_rows": null,
            "grid_column": null,
            "grid_gap": null,
            "grid_row": null,
            "grid_template_areas": null,
            "grid_template_columns": null,
            "grid_template_rows": null,
            "height": null,
            "justify_content": null,
            "justify_items": null,
            "left": null,
            "margin": null,
            "max_height": null,
            "max_width": null,
            "min_height": null,
            "min_width": null,
            "object_fit": null,
            "object_position": null,
            "order": null,
            "overflow": null,
            "overflow_x": null,
            "overflow_y": null,
            "padding": null,
            "right": null,
            "top": null,
            "visibility": null,
            "width": null
          }
        },
        "dc9df7ab767a40d4b49ba8cc2fd3e4b3": {
          "model_module": "@jupyter-widgets/controls",
          "model_name": "SliderStyleModel",
          "model_module_version": "1.5.0",
          "state": {
            "_model_module": "@jupyter-widgets/controls",
            "_model_module_version": "1.5.0",
            "_model_name": "SliderStyleModel",
            "_view_count": null,
            "_view_module": "@jupyter-widgets/base",
            "_view_module_version": "1.2.0",
            "_view_name": "StyleView",
            "description_width": "",
            "handle_color": null
          }
        },
        "aadb2ec81d474f2d84177d646d92a0e7": {
          "model_module": "@jupyter-widgets/controls",
          "model_name": "RadioButtonsModel",
          "model_module_version": "1.5.0",
          "state": {
            "_dom_classes": [],
            "_model_module": "@jupyter-widgets/controls",
            "_model_module_version": "1.5.0",
            "_model_name": "RadioButtonsModel",
            "_options_labels": [
              "Constant (f(x)=0)",
              "Constant (f(x)=1)",
              "Balanced (example)"
            ],
            "_view_count": null,
            "_view_module": "@jupyter-widgets/controls",
            "_view_module_version": "1.5.0",
            "_view_name": "RadioButtonsView",
            "description": "Oracle type:",
            "description_tooltip": null,
            "disabled": false,
            "index": 0,
            "layout": "IPY_MODEL_69c233682a0945fd91b5f73bf9a62e39",
            "style": "IPY_MODEL_6372f6af20c742468de14d788bdf4cf5"
          }
        },
        "69c233682a0945fd91b5f73bf9a62e39": {
          "model_module": "@jupyter-widgets/base",
          "model_name": "LayoutModel",
          "model_module_version": "1.2.0",
          "state": {
            "_model_module": "@jupyter-widgets/base",
            "_model_module_version": "1.2.0",
            "_model_name": "LayoutModel",
            "_view_count": null,
            "_view_module": "@jupyter-widgets/base",
            "_view_module_version": "1.2.0",
            "_view_name": "LayoutView",
            "align_content": null,
            "align_items": null,
            "align_self": null,
            "border": null,
            "bottom": null,
            "display": null,
            "flex": null,
            "flex_flow": null,
            "grid_area": null,
            "grid_auto_columns": null,
            "grid_auto_flow": null,
            "grid_auto_rows": null,
            "grid_column": null,
            "grid_gap": null,
            "grid_row": null,
            "grid_template_areas": null,
            "grid_template_columns": null,
            "grid_template_rows": null,
            "height": null,
            "justify_content": null,
            "justify_items": null,
            "left": null,
            "margin": null,
            "max_height": null,
            "max_width": null,
            "min_height": null,
            "min_width": null,
            "object_fit": null,
            "object_position": null,
            "order": null,
            "overflow": null,
            "overflow_x": null,
            "overflow_y": null,
            "padding": null,
            "right": null,
            "top": null,
            "visibility": null,
            "width": null
          }
        },
        "6372f6af20c742468de14d788bdf4cf5": {
          "model_module": "@jupyter-widgets/controls",
          "model_name": "DescriptionStyleModel",
          "model_module_version": "1.5.0",
          "state": {
            "_model_module": "@jupyter-widgets/controls",
            "_model_module_version": "1.5.0",
            "_model_name": "DescriptionStyleModel",
            "_view_count": null,
            "_view_module": "@jupyter-widgets/base",
            "_view_module_version": "1.2.0",
            "_view_name": "StyleView",
            "description_width": ""
          }
        },
        "fb041442b8c54fc083469dc08a86f47b": {
          "model_module": "@jupyter-widgets/controls",
          "model_name": "ButtonModel",
          "model_module_version": "1.5.0",
          "state": {
            "_dom_classes": [],
            "_model_module": "@jupyter-widgets/controls",
            "_model_module_version": "1.5.0",
            "_model_name": "ButtonModel",
            "_view_count": null,
            "_view_module": "@jupyter-widgets/controls",
            "_view_module_version": "1.5.0",
            "_view_name": "ButtonView",
            "button_style": "success",
            "description": "Run Deutsch-Jozsa",
            "disabled": false,
            "icon": "",
            "layout": "IPY_MODEL_bbf543e5dd074d8c86f96aacd838ab40",
            "style": "IPY_MODEL_17a4bc5ef66144ebadeadb0cc605b5a4",
            "tooltip": ""
          }
        },
        "bbf543e5dd074d8c86f96aacd838ab40": {
          "model_module": "@jupyter-widgets/base",
          "model_name": "LayoutModel",
          "model_module_version": "1.2.0",
          "state": {
            "_model_module": "@jupyter-widgets/base",
            "_model_module_version": "1.2.0",
            "_model_name": "LayoutModel",
            "_view_count": null,
            "_view_module": "@jupyter-widgets/base",
            "_view_module_version": "1.2.0",
            "_view_name": "LayoutView",
            "align_content": null,
            "align_items": null,
            "align_self": null,
            "border": null,
            "bottom": null,
            "display": null,
            "flex": null,
            "flex_flow": null,
            "grid_area": null,
            "grid_auto_columns": null,
            "grid_auto_flow": null,
            "grid_auto_rows": null,
            "grid_column": null,
            "grid_gap": null,
            "grid_row": null,
            "grid_template_areas": null,
            "grid_template_columns": null,
            "grid_template_rows": null,
            "height": null,
            "justify_content": null,
            "justify_items": null,
            "left": null,
            "margin": null,
            "max_height": null,
            "max_width": null,
            "min_height": null,
            "min_width": null,
            "object_fit": null,
            "object_position": null,
            "order": null,
            "overflow": null,
            "overflow_x": null,
            "overflow_y": null,
            "padding": null,
            "right": null,
            "top": null,
            "visibility": null,
            "width": null
          }
        },
        "17a4bc5ef66144ebadeadb0cc605b5a4": {
          "model_module": "@jupyter-widgets/controls",
          "model_name": "ButtonStyleModel",
          "model_module_version": "1.5.0",
          "state": {
            "_model_module": "@jupyter-widgets/controls",
            "_model_module_version": "1.5.0",
            "_model_name": "ButtonStyleModel",
            "_view_count": null,
            "_view_module": "@jupyter-widgets/base",
            "_view_module_version": "1.2.0",
            "_view_name": "StyleView",
            "button_color": null,
            "font_weight": ""
          }
        },
        "308a0f9cd63a449dbe714d89cbf5ccf0": {
          "model_module": "@jupyter-widgets/output",
          "model_name": "OutputModel",
          "model_module_version": "1.0.0",
          "state": {
            "_dom_classes": [],
            "_model_module": "@jupyter-widgets/output",
            "_model_module_version": "1.0.0",
            "_model_name": "OutputModel",
            "_view_count": null,
            "_view_module": "@jupyter-widgets/output",
            "_view_module_version": "1.0.0",
            "_view_name": "OutputView",
            "layout": "IPY_MODEL_f29cf86896b34c289102f0b44cb31591",
            "msg_id": "",
            "outputs": [
              {
                "output_type": "stream",
                "name": "stdout",
                "text": [
                  "Deutsch–Jozsa Circuit:\n"
                ]
              },
              {
                "output_type": "display_data",
                "data": {
                  "text/plain": "<Figure size 705.552x367.889 with 1 Axes>",
                  "image/png": "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\n"
                },
                "metadata": {}
              },
              {
                "output_type": "stream",
                "name": "stdout",
                "text": [
                  "\n",
                  "Measurement Results:\n",
                  "{'00': 1024}\n"
                ]
              },
              {
                "output_type": "display_data",
                "data": {
                  "text/plain": "<Figure size 640x480 with 1 Axes>",
                  "image/png": "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\n"
                },
                "metadata": {}
              },
              {
                "output_type": "stream",
                "name": "stdout",
                "text": [
                  "\n",
                  "✅ Result: Function is CONSTANT\n"
                ]
              }
            ]
          }
        },
        "f29cf86896b34c289102f0b44cb31591": {
          "model_module": "@jupyter-widgets/base",
          "model_name": "LayoutModel",
          "model_module_version": "1.2.0",
          "state": {
            "_model_module": "@jupyter-widgets/base",
            "_model_module_version": "1.2.0",
            "_model_name": "LayoutModel",
            "_view_count": null,
            "_view_module": "@jupyter-widgets/base",
            "_view_module_version": "1.2.0",
            "_view_name": "LayoutView",
            "align_content": null,
            "align_items": null,
            "align_self": null,
            "border": null,
            "bottom": null,
            "display": null,
            "flex": null,
            "flex_flow": null,
            "grid_area": null,
            "grid_auto_columns": null,
            "grid_auto_flow": null,
            "grid_auto_rows": null,
            "grid_column": null,
            "grid_gap": null,
            "grid_row": null,
            "grid_template_areas": null,
            "grid_template_columns": null,
            "grid_template_rows": null,
            "height": null,
            "justify_content": null,
            "justify_items": null,
            "left": null,
            "margin": null,
            "max_height": null,
            "max_width": null,
            "min_height": null,
            "min_width": null,
            "object_fit": null,
            "object_position": null,
            "order": null,
            "overflow": null,
            "overflow_x": null,
            "overflow_y": null,
            "padding": null,
            "right": null,
            "top": null,
            "visibility": null,
            "width": null
          }
        }
      }
    }
  },
  "cells": [
    {
      "cell_type": "markdown",
      "metadata": {
        "id": "view-in-github",
        "colab_type": "text"
      },
      "source": [
        "<a href=\"https://colab.research.google.com/github/anityu45/Indic-auto-complete-engine/blob/main/Deutsch%E2%80%93Jozsa.ipynb\" target=\"_parent\"><img src=\"https://colab.research.google.com/assets/colab-badge.svg\" alt=\"Open In Colab\"/></a>"
      ]
    },
    {
      "cell_type": "code",
      "execution_count": 1,
      "metadata": {
        "colab": {
          "base_uri": "https://localhost:8080/"
        },
        "id": "vwotDERupKsy",
        "outputId": "ac6cec4a-1d52-4202-8448-fd76094874de"
      },
      "outputs": [
        {
          "output_type": "stream",
          "name": "stdout",
          "text": [
            "\u001b[?25l     \u001b[90m━━━━━━━━━━━━━━━━━━━━━━━━━━━━━━━━━━━━━━━━\u001b[0m \u001b[32m0.0/162.6 kB\u001b[0m \u001b[31m?\u001b[0m eta \u001b[36m-:--:--\u001b[0m\r\u001b[2K     \u001b[90m━━━━━━━━━━━━━━━━━━━━━━━━━━━━━━━━━━━━━━━\u001b[0m \u001b[32m162.6/162.6 kB\u001b[0m \u001b[31m4.6 MB/s\u001b[0m eta \u001b[36m0:00:00\u001b[0m\n",
            "\u001b[?25h  Preparing metadata (setup.py) ... \u001b[?25l\u001b[?25hdone\n",
            "\u001b[2K   \u001b[90m━━━━━━━━━━━━━━━━━━━━━━━━━━━━━━━━━━━━━━━━\u001b[0m \u001b[32m8.0/8.0 MB\u001b[0m \u001b[31m89.8 MB/s\u001b[0m eta \u001b[36m0:00:00\u001b[0m\n",
            "\u001b[2K   \u001b[90m━━━━━━━━━━━━━━━━━━━━━━━━━━━━━━━━━━━━━━━━\u001b[0m \u001b[32m12.4/12.4 MB\u001b[0m \u001b[31m98.2 MB/s\u001b[0m eta \u001b[36m0:00:00\u001b[0m\n",
            "\u001b[2K   \u001b[90m━━━━━━━━━━━━━━━━━━━━━━━━━━━━━━━━━━━━━━━━\u001b[0m \u001b[32m2.2/2.2 MB\u001b[0m \u001b[31m73.5 MB/s\u001b[0m eta \u001b[36m0:00:00\u001b[0m\n",
            "\u001b[2K   \u001b[90m━━━━━━━━━━━━━━━━━━━━━━━━━━━━━━━━━━━━━━━━\u001b[0m \u001b[32m49.5/49.5 kB\u001b[0m \u001b[31m4.0 MB/s\u001b[0m eta \u001b[36m0:00:00\u001b[0m\n",
            "\u001b[2K   \u001b[90m━━━━━━━━━━━━━━━━━━━━━━━━━━━━━━━━━━━━━━━━\u001b[0m \u001b[32m1.6/1.6 MB\u001b[0m \u001b[31m60.4 MB/s\u001b[0m eta \u001b[36m0:00:00\u001b[0m\n",
            "\u001b[?25h  Building wheel for pylatexenc (setup.py) ... \u001b[?25l\u001b[?25hdone\n"
          ]
        }
      ],
      "source": [
        "\n",
        "!pip install qiskit qiskit-aer ipywidgets matplotlib pylatexenc --quiet"
      ]
    },
    {
      "cell_type": "code",
      "source": [
        "import logging\n",
        "logging.getLogger('stevedore.extension').setLevel(logging.ERROR)\n"
      ],
      "metadata": {
        "id": "JSZL8fE-pd65"
      },
      "execution_count": 2,
      "outputs": []
    },
    {
      "cell_type": "code",
      "source": [
        "from qiskit import QuantumCircuit, transpile\n",
        "from qiskit_aer.backends import AerSimulator\n",
        "from qiskit.visualization import plot_histogram\n",
        "from IPython.display import display, clear_output\n",
        "import ipywidgets as widgets\n"
      ],
      "metadata": {
        "id": "pvgMU_KxphzW"
      },
      "execution_count": 3,
      "outputs": []
    },
    {
      "cell_type": "code",
      "source": [
        "def constant_oracle(n_qubits, value=0):\n",
        "    qc = QuantumCircuit(n_qubits + 1, name=f\"const_{value}\")\n",
        "    if value == 1:\n",
        "        qc.x(n_qubits)\n",
        "    return qc\n",
        "\n",
        "# ---- Balanced oracle from truth table ----\n",
        "def balanced_oracle_from_map(bitmap):\n",
        "    n_qubits = max(1, (max(bitmap.keys()).bit_length()))\n",
        "    qc = QuantumCircuit(n_qubits + 1, name=\"balanced\")\n",
        "    for x, fx in bitmap.items():\n",
        "        if fx == 1:\n",
        "            bits = [(x >> i) & 1 for i in range(n_qubits)]\n",
        "            for i, bit in enumerate(bits):\n",
        "                if bit == 0:\n",
        "                    qc.x(i)\n",
        "            qc.mcx(list(range(n_qubits)), n_qubits)\n",
        "            for i, bit in enumerate(bits):\n",
        "                if bit == 0:\n",
        "                    qc.x(i)\n",
        "    return qc\n",
        "\n",
        "# ---- Deutsch–Jozsa circuit builder ----\n",
        "def deutsch_jozsa_circuit(n, oracle):\n",
        "    qc = QuantumCircuit(n + 1, n)\n",
        "    qc.x(n)\n",
        "    qc.h(range(n + 1))\n",
        "    qc.append(oracle, range(n + 1))\n",
        "    qc.h(range(n))\n",
        "    qc.measure(range(n), range(n))\n",
        "    return qc\n",
        "\n",
        "# ---- Interactive widgets ----\n",
        "n_qubits_slider = widgets.IntSlider(min=1, max=4, step=1, description='Number of qubits:')\n",
        "oracle_type_radio = widgets.RadioButtons(\n",
        "    options=['Constant (f(x)=0)', 'Constant (f(x)=1)', 'Balanced (example)'],\n",
        "    description='Oracle type:')\n",
        "run_button = widgets.Button(description=\"Run Deutsch-Jozsa\", button_style='success')\n",
        "output_area = widgets.Output()\n",
        "\n",
        "display(n_qubits_slider, oracle_type_radio, run_button, output_area)\n",
        "\n",
        "# ---- Button click event ----\n",
        "def on_button_click(b):\n",
        "    with output_area:\n",
        "        clear_output()\n",
        "        n = n_qubits_slider.value\n",
        "        oracle_type = oracle_type_radio.value\n",
        "\n",
        "        # --- Choose oracle ---\n",
        "        if oracle_type == 'Constant (f(x)=0)':\n",
        "            oracle = constant_oracle(n, 0)\n",
        "        elif oracle_type == 'Constant (f(x)=1)':\n",
        "            oracle = constant_oracle(n, 1)\n",
        "        else:  # Balanced examples\n",
        "            if n == 1:\n",
        "                bitmap = {0: 0, 1: 1}\n",
        "            elif n == 2:\n",
        "                bitmap = {0: 0, 1: 1, 2: 0, 3: 1}\n",
        "            elif n == 3:\n",
        "                bitmap = {i: (i % 2) for i in range(8)}\n",
        "            elif n == 4:\n",
        "                bitmap = {i: bin(i).count('1') % 2 for i in range(16)}\n",
        "            else:\n",
        "                print(f\"No balanced oracle defined for {n} qubits.\")\n",
        "                return\n",
        "            oracle = balanced_oracle_from_map(bitmap)\n",
        "\n",
        "        # --- Build & simulate circuit ---\n",
        "        dj_circuit = deutsch_jozsa_circuit(n, oracle)\n",
        "        simulator = AerSimulator()\n",
        "        job = simulator.run(transpile(dj_circuit, simulator), shots=1024)\n",
        "        result = job.result()\n",
        "        counts = result.get_counts()\n",
        "\n",
        "        # --- Display results ---\n",
        "        print(\"Deutsch–Jozsa Circuit:\")\n",
        "        display(dj_circuit.draw(output='mpl'))\n",
        "        print(\"\\nMeasurement Results:\")\n",
        "        print(counts)\n",
        "        display(plot_histogram(counts))\n",
        "\n",
        "        if '0'*n in counts and len(counts) == 1:\n",
        "            print(\"\\n✅ Result: Function is CONSTANT\")\n",
        "        else:\n",
        "            print(\"\\n⚖️ Result: Function is BALANCED\")\n",
        "\n",
        "run_button.on_click(on_button_click)"
      ],
      "metadata": {
        "colab": {
          "base_uri": "https://localhost:8080/",
          "height": 1000,
          "referenced_widgets": [
            "3aba1a9b640d4e9199d3c3070c237362",
            "ae5d958233744ddfb874560cbd9492d5",
            "dc9df7ab767a40d4b49ba8cc2fd3e4b3",
            "aadb2ec81d474f2d84177d646d92a0e7",
            "69c233682a0945fd91b5f73bf9a62e39",
            "6372f6af20c742468de14d788bdf4cf5",
            "fb041442b8c54fc083469dc08a86f47b",
            "bbf543e5dd074d8c86f96aacd838ab40",
            "17a4bc5ef66144ebadeadb0cc605b5a4",
            "308a0f9cd63a449dbe714d89cbf5ccf0",
            "f29cf86896b34c289102f0b44cb31591"
          ]
        },
        "id": "-ZYNCXrHpn-D",
        "outputId": "e1268b96-62cf-46e2-f4eb-63dae79e03c8"
      },
      "execution_count": 4,
      "outputs": [
        {
          "output_type": "display_data",
          "data": {
            "text/plain": [
              "IntSlider(value=1, description='Number of qubits:', max=4, min=1)"
            ],
            "application/vnd.jupyter.widget-view+json": {
              "version_major": 2,
              "version_minor": 0,
              "model_id": "3aba1a9b640d4e9199d3c3070c237362"
            }
          },
          "metadata": {}
        },
        {
          "output_type": "display_data",
          "data": {
            "text/plain": [
              "RadioButtons(description='Oracle type:', options=('Constant (f(x)=0)', 'Constant (f(x)=1)', 'Balanced (example…"
            ],
            "application/vnd.jupyter.widget-view+json": {
              "version_major": 2,
              "version_minor": 0,
              "model_id": "aadb2ec81d474f2d84177d646d92a0e7"
            }
          },
          "metadata": {}
        },
        {
          "output_type": "display_data",
          "data": {
            "text/plain": [
              "Button(button_style='success', description='Run Deutsch-Jozsa', style=ButtonStyle())"
            ],
            "application/vnd.jupyter.widget-view+json": {
              "version_major": 2,
              "version_minor": 0,
              "model_id": "fb041442b8c54fc083469dc08a86f47b"
            }
          },
          "metadata": {}
        },
        {
          "output_type": "display_data",
          "data": {
            "text/plain": [
              "Output()"
            ],
            "application/vnd.jupyter.widget-view+json": {
              "version_major": 2,
              "version_minor": 0,
              "model_id": "308a0f9cd63a449dbe714d89cbf5ccf0"
            }
          },
          "metadata": {}
        }
      ]
    }
  ]
}